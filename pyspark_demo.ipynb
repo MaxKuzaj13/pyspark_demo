{
 "cells": [
  {
   "cell_type": "markdown",
   "metadata": {},
   "source": [
    "## PySpark Tutorial in VSC"
   ]
  },
  {
   "cell_type": "code",
   "execution_count": 4,
   "metadata": {},
   "outputs": [],
   "source": [
    "# Import necessary libraries\n",
    "import os\n",
    "from pyspark.sql import SparkSession"
   ]
  },
  {
   "cell_type": "code",
   "execution_count": 6,
   "metadata": {},
   "outputs": [],
   "source": [
    "# To use Spark with VSC please run this path if you need change path to SPARK_HOME where you install it\n",
    "os.environ['SPARK_HOME'] = \"/Users/maxrogowski/PycharmProjects/Spark\"\n",
    "os.environ['PYSPARK_DRIVER_PYTHON'] = 'code'\n",
    "os.environ['PYSPARK_PYTHON'] = 'python'"
   ]
  },
  {
   "cell_type": "code",
   "execution_count": 7,
   "metadata": {},
   "outputs": [
    {
     "name": "stderr",
     "output_type": "stream",
     "text": [
      "Setting default log level to \"WARN\".\n",
      "To adjust logging level use sc.setLogLevel(newLevel). For SparkR, use setLogLevel(newLevel).\n",
      "24/03/20 14:31:49 WARN NativeCodeLoader: Unable to load native-hadoop library for your platform... using builtin-java classes where applicable\n"
     ]
    }
   ],
   "source": [
    "# Create a Session\n",
    "spark = SparkSession.builder.appName(\"PySpark-Get-Started\").getOrCreate()\n"
   ]
  },
  {
   "cell_type": "code",
   "execution_count": 9,
   "metadata": {},
   "outputs": [
    {
     "name": "stdout",
     "output_type": "stream",
     "text": [
      "+-----+--------+\n",
      "| Name|Body Age|\n",
      "+-----+--------+\n",
      "|  Max|      40|\n",
      "|  Aga|      14|\n",
      "|Tomas|      18|\n",
      "+-----+--------+\n",
      "\n"
     ]
    }
   ],
   "source": [
    "# Test the setup check if data is running on spark\n",
    "data = [(\"Max\", 40), (\"Aga\", 14), (\"Tomas\", 18)]\n",
    "df = spark.createDataFrame(data, [\"Name\", \"Body Age\"])\n",
    "df.show()"
   ]
  },
  {
   "cell_type": "code",
   "execution_count": 10,
   "metadata": {},
   "outputs": [],
   "source": [
    "# Stop Spark session \n",
    "spark.stop()"
   ]
  },
  {
   "cell_type": "code",
   "execution_count": 11,
   "metadata": {},
   "outputs": [],
   "source": [
    "# Create a SparkSession RDD - demo \n",
    "spark = SparkSession.builder.appName(\"RDD-Demo\").getOrCreate()\n"
   ]
  },
  {
   "cell_type": "code",
   "execution_count": 13,
   "metadata": {},
   "outputs": [
    {
     "data": {
      "text/plain": [
       "[1, 2, 3, 4, 5]"
      ]
     },
     "execution_count": 13,
     "metadata": {},
     "output_type": "execute_result"
    }
   ],
   "source": [
    "# Put list to RDD\n",
    "numbers = [1, 2, 3, 4, 5]\n",
    "rdd = spark.sparkContext.parallelize(numbers)\n",
    "# Collect action: Retrieve all elements of the RDD\n",
    "rdd.collect()"
   ]
  },
  {
   "cell_type": "code",
   "execution_count": 18,
   "metadata": {},
   "outputs": [
    {
     "name": "stdout",
     "output_type": "stream",
     "text": [
      "All elements of the rdd:  [('Max', 25), ('Tomas', 30), ('Aga', 35), ('Max', 40)]\n",
      "The total number of elements in rdd:  4\n",
      "The first element of the rdd:  ('Max', 25)\n",
      "The first two elements of the rdd:  [('Max', 25), ('Tomas', 30)]\n"
     ]
    }
   ],
   "source": [
    "# Create an RDD from a list of tuples\n",
    "data = [(\"Max\", 25), (\"Tomas\", 30), (\"Aga\", 35), (\"Max\", 40)]\n",
    "rdd = spark.sparkContext.parallelize(data)\n",
    "# Print all elements\n",
    "print(\"All elements of the rdd: \", rdd.collect())\n",
    "# Count action: Count the number of elements in the RDD\n",
    "count = rdd.count()\n",
    "print(\"The total number of elements in rdd: \", count)\n",
    "# First action: Retrieve the first element of the RDD\n",
    "first_element = rdd.first()\n",
    "print(\"The first element of the rdd: \", first_element)\n",
    "# Take action: Retrieve the n elements of the RDD\n",
    "taken_elements = rdd.take(2)\n",
    "print(\"The first two elements of the rdd: \", taken_elements)"
   ]
  },
  {
   "cell_type": "code",
   "execution_count": 19,
   "metadata": {},
   "outputs": [
    {
     "name": "stderr",
     "output_type": "stream",
     "text": [
      "('Max', 40)\n",
      "('Max', 25)\n",
      "('Tomas', 30)\n",
      "('Aga', 35)\n"
     ]
    }
   ],
   "source": [
    "# Pint in loop\n",
    "rdd.foreach(lambda x: print(x))\n"
   ]
  },
  {
   "cell_type": "code",
   "execution_count": 21,
   "metadata": {},
   "outputs": [
    {
     "name": "stdout",
     "output_type": "stream",
     "text": [
      "rdd with uppercase name:  [('MAX', 25), ('TOMAS', 30), ('AGA', 35), ('MAX', 40)]\n",
      "Filter records where age is greater than 30:  [('Aga', 35), ('Max', 40)]\n"
     ]
    }
   ],
   "source": [
    "# Map transformation: Convert name to uppercase\n",
    "mapped_rdd = rdd.map(lambda x: (x[0].upper(), x[1]))\n",
    "result = mapped_rdd.collect()\n",
    "print(\"rdd with uppercase name: \", result) \n",
    "# Filter transformation: Filter records where age is greater than 30\n",
    "filtered_rdd = rdd.filter(lambda x: x[1] > 30)\n",
    "print(\"Filter records where age is greater than 30: \", filtered_rdd.collect()) \n"
   ]
  },
  {
   "cell_type": "code",
   "execution_count": null,
   "metadata": {},
   "outputs": [],
   "source": []
  }
 ],
 "metadata": {
  "kernelspec": {
   "display_name": "Python 3",
   "language": "python",
   "name": "python3"
  },
  "language_info": {
   "codemirror_mode": {
    "name": "ipython",
    "version": 3
   },
   "file_extension": ".py",
   "mimetype": "text/x-python",
   "name": "python",
   "nbconvert_exporter": "python",
   "pygments_lexer": "ipython3",
   "version": "3.12.2"
  }
 },
 "nbformat": 4,
 "nbformat_minor": 2
}
